{
 "cells": [
  {
   "cell_type": "markdown",
   "id": "ab1d67d0",
   "metadata": {},
   "source": [
    "# Pythonサンプルプログラム"
   ]
  },
  {
   "cell_type": "code",
   "execution_count": 1,
   "id": "cd606288",
   "metadata": {},
   "outputs": [],
   "source": [
    "import pandas as pd\n",
    "import numpy as np\n",
    "\n",
    "def run_class_assignment():\n",
    "    np.random.seed(0)  # 再現性のための乱数シード\n",
    "    num_students = 50\n",
    "\n",
    "    # データ作成\n",
    "    data = {\n",
    "        'ID': list(range(1, num_students + 1)),\n",
    "        'japanese': np.random.randint(1, 6, num_students),\n",
    "        'music': np.random.randint(1, 6, num_students),\n",
    "        'exercise': np.random.randint(1, 6, num_students),\n",
    "        'class': [''] * num_students,  # クラス分けの結果を入れるための列\n",
    "        'group': [''] * num_students  # 成績に基づいて設定したグループ\n",
    "    }\n",
    "    df = pd.DataFrame(data)\n",
    "\n",
    "    # leaders、arts、phisicalsグループの選出\n",
    "    leaders = df.nlargest(6, ['japanese', 'music', 'exercise']).sort_values(by=['japanese', 'music', 'exercise'], ascending=False)\n",
    "    arts = df[~df['ID'].isin(leaders['ID'])].nlargest(3, 'music')\n",
    "    phisicals = df[~df['ID'].isin(leaders['ID']) & ~df['ID'].isin(arts['ID'])].nlargest(9, 'exercise')\n",
    "    others = df[~df['ID'].isin(leaders['ID']) & ~df['ID'].isin(arts['ID']) & ~df['ID'].isin(phisicals['ID'])]\n",
    "\n",
    "    # グループ情報の設定\n",
    "    df.loc[leaders.index, 'group'] = 'leaders'\n",
    "    df.loc[arts.index, 'group'] = 'arts'\n",
    "    df.loc[phisicals.index, 'group'] = 'phisicals'\n",
    "\n",
    "    # クラス分けの準備\n",
    "    classes = {\n",
    "        'Class1': [],\n",
    "        'Class2': [],\n",
    "        'Class3': []\n",
    "    }\n",
    "\n",
    "    # leaders、arts、phisicalsのそれぞれから最低1人クラスにアサイン\n",
    "    for group, num_students in zip([leaders, arts, phisicals], [3, 1, 1]):\n",
    "        for i in range(num_students):\n",
    "            classes[f'Class{i+1}'].append(group.iloc[i])\n",
    "\n",
    "    # leaders、arts、phisicalsのメンバーがどこかのクラスにアサインされるようにする\n",
    "    for group in [leaders, arts, phisicals]:\n",
    "        for index, row in group.iterrows():\n",
    "            if row['ID'] not in [student['ID'] for students in classes.values() for student in students]:\n",
    "                min_class = min(classes, key=lambda x: len(classes[x]))\n",
    "                classes[min_class].append(row)\n",
    "\n",
    "    # その他の生徒をクラスにアサイン\n",
    "    for index, row in others.iterrows():\n",
    "        min_class_size = min(len(classes['Class1']), len(classes['Class2']), len(classes['Class3']))\n",
    "        if min_class_size < 16:\n",
    "            min_class = min(classes, key=lambda x: len(classes[x]))\n",
    "            classes[min_class].append(row)\n",
    "\n",
    "    # 各クラスが最低16人以上で、合計が50人になるようにする\n",
    "    while sum(len(students) for students in classes.values()) < 50:\n",
    "        min_class = min(classes, key=lambda x: len(classes[x]))\n",
    "        if len(others) > 0:\n",
    "            classes[min_class].append(others.iloc[0])\n",
    "            others = others.drop(index=others.index[0])  # 追加した生徒を削除\n",
    "\n",
    "    # 各クラスのサイズを確認して調整する\n",
    "    for class_name, students in classes.items():\n",
    "        while len(students) < 16:\n",
    "            if len(others) > 0:\n",
    "                classes[class_name].append(others.iloc[0])\n",
    "                others = others.drop(index=others.index[0])  # 追加した生徒を削除\n",
    "\n",
    "    # クラス分けの結果をデータフレームに追加\n",
    "    for class_name, students in classes.items():\n",
    "        for student in students:\n",
    "            df.loc[df['ID'] == student['ID'], 'class'] = class_name\n",
    "\n",
    "    return df[['ID', 'japanese', 'music', 'exercise', 'class', 'group']]\n",
    "\n",
    "# # テスト実行\n",
    "# result = run_class_assignment()\n",
    "# print(result)\n"
   ]
  },
  {
   "cell_type": "code",
   "execution_count": 106,
   "id": "f7bfe166",
   "metadata": {},
   "outputs": [],
   "source": [
    "import numpy as np\n",
    "import pandas as pd\n",
    "import matplotlib.pyplot as plt\n",
    "\n",
    "def run_plotting(data):\n",
    "    def plot_box_chart(ax, df, subject):\n",
    "        ax.boxplot([\n",
    "            df[df['class'] == 'Class1'][subject],\n",
    "            df[df['class'] == 'Class2'][subject],\n",
    "            df[df['class'] == 'Class3'][subject]\n",
    "        ], labels=['Class1', 'Class2', 'Class3'])\n",
    "        ax.scatter(np.arange(1, 4), [df[df['class'] == f'Class{i}'][subject].mean() for i in range(1, 4)], color='red', label='Class Mean')\n",
    "        ax.set_title(f'Box Plot - {subject} Scores')\n",
    "        ax.set_xlabel('Class')\n",
    "        ax.set_ylabel(f'{subject.capitalize()} Scores')\n",
    "        ax.grid(True)\n",
    "\n",
    "    # DataFrameを作成\n",
    "    df = pd.DataFrame(data)\n",
    "\n",
    "    # プロットの配置を作成\n",
    "    fig, axs = plt.subplots(2, 2, figsize=(16, 9))\n",
    "\n",
    "    # 各種プロットを描画\n",
    "    plot_box_chart(axs[0, 0], df, 'japanese')\n",
    "    plot_box_chart(axs[0, 1], df, 'music')\n",
    "    plot_box_chart(axs[1, 0], df, 'exercise')\n",
    "\n",
    "    # レイアウトを調整して表示\n",
    "    plt.tight_layout()\n",
    "    plt.show()\n",
    "\n",
    "# # テストデータを用意して実行\n",
    "# data = {\n",
    "#     'ID': np.arange(1, 21),\n",
    "#     'japanese': np.random.randint(50, 100, 20),\n",
    "#     'music': np.random.randint(40, 95, 20),\n",
    "#     'exercise': np.random.randint(30, 80, 20),\n",
    "#     'class': np.random.choice(['Class1', 'Class2', 'Class3'], 20),\n",
    "#     'group': np.random.choice(['A', 'B', 'C'], 20)\n",
    "# }\n",
    "\n",
    "# run_plotting(data)\n"
   ]
  },
  {
   "cell_type": "code",
   "execution_count": 107,
   "id": "172af7c1",
   "metadata": {},
   "outputs": [],
   "source": [
    "def main():\n",
    "\n",
    "    # 成績によるクラス分け\n",
    "    result = run_class_assignment()\n",
    "    \n",
    "    #     # Matplotを使った図形描画\n",
    "    run_plotting(data=result)\n"
   ]
  },
  {
   "cell_type": "code",
   "execution_count": 108,
   "id": "310212ea",
   "metadata": {},
   "outputs": [
    {
     "data": {
      "image/png": "[encoded data removed]",
      "text/plain": [
       "<Figure size 1152x648 with 4 Axes>"
      ]
     },
     "metadata": {
      "needs_background": "light"
     },
     "output_type": "display_data"
    }
   ],
   "source": [
    "if __name__ == \"__main__\":\n",
    "    main()"
   ]
  },
  {
   "cell_type": "code",
   "execution_count": null,
   "id": "14cd8ecc",
   "metadata": {},
   "outputs": [],
   "source": []
  }
 ],
 "metadata": {
  "kernelspec": {
   "display_name": "Python 3 (ipykernel)",
   "language": "python",
   "name": "python3"
  },
  "language_info": {
   "codemirror_mode": {
    "name": "ipython",
    "version": 3
   },
   "file_extension": ".py",
   "mimetype": "text/x-python",
   "name": "python",
   "nbconvert_exporter": "python",
   "pygments_lexer": "ipython3",
   "version": "3.10.0"
  }
 },
 "nbformat": 4,
 "nbformat_minor": 5
}
