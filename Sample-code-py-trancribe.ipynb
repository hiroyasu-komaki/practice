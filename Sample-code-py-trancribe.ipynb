{
 "cells": [
  {
   "cell_type": "markdown",
   "id": "ab1d67d0",
   "metadata": {},
   "source": [
    "# Pythonサンプルプログラム"
   ]
  },
  {
   "cell_type": "code",
   "execution_count": 1,
   "id": "6d51cce7",
   "metadata": {},
   "outputs": [],
   "source": [
    "# faster-whisperを使った文字起こし\n",
    "from faster_whisper import WhisperModel\n",
    "\n",
    "def run_trancribe(input_filepath, output_filepath):\n",
    "\n",
    "    model_sizes = [\n",
    "        \"small\",\n",
    "#         \"medium\", \n",
    "#         \"large-v1\", \n",
    "#         \"large-v2\", \n",
    "#         \"large-v3\", \n",
    "#         \"distil-large-v2\", \n",
    "#         \"distil-large-v3\"\n",
    "    ]\n",
    "    model_size = model_sizes[0]\n",
    "\n",
    "    # run on CPU with INT8\n",
    "    model = WhisperModel(model_size, device=\"cpu\", compute_type=\"int8\")\n",
    "\n",
    "    segments, info = model.transcribe(input_filepath, beam_size=5)\n",
    "\n",
    "    print(\"Detected language '%s'\" % (info.language))\n",
    "    print(\"probability %f\" % (info.language_probability))\n",
    "\n",
    "    # 結果をバッファに蓄積\n",
    "    buffer = []\n",
    "    for segment in segments:\n",
    "        buffer.append(f\"[{segment.start:.2f}s -> {segment.end:.2f}s] {segment.text}\\n\")\n",
    "    \n",
    "    # バッファの内容をファイルに書き出し\n",
    "    with open(output_filepath, \"w\", encoding=\"utf-8\") as file:\n",
    "        file.writelines(buffer)"
   ]
  },
  {
   "cell_type": "code",
   "execution_count": 2,
   "id": "172af7c1",
   "metadata": {},
   "outputs": [],
   "source": [
    "def main():\n",
    "\n",
    "    # faster-whisperを使った文字起こし\n",
    "    run_trancribe(input_filepath=\"./data/audio/podcast.m4a\", output_filepath=\"./data/out/transcript.txt\")\n"
   ]
  },
  {
   "cell_type": "code",
   "execution_count": 3,
   "id": "310212ea",
   "metadata": {},
   "outputs": [
    {
     "name": "stdout",
     "output_type": "stream",
     "text": [
      "Detected language 'en'\n",
      "probability 0.950422\n"
     ]
    }
   ],
   "source": [
    "if __name__ == \"__main__\":\n",
    "    main()"
   ]
  }
 ],
 "metadata": {
  "kernelspec": {
   "display_name": "Python 3 (ipykernel)",
   "language": "python",
   "name": "python3"
  },
  "language_info": {
   "codemirror_mode": {
    "name": "ipython",
    "version": 3
   },
   "file_extension": ".py",
   "mimetype": "text/x-python",
   "name": "python",
   "nbconvert_exporter": "python",
   "pygments_lexer": "ipython3",
   "version": "3.10.0"
  }
 },
 "nbformat": 4,
 "nbformat_minor": 5
}
