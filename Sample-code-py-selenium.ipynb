{
 "cells": [
  {
   "cell_type": "markdown",
   "id": "ab1d67d0",
   "metadata": {},
   "source": [
    "# Pythonサンプルプログラム"
   ]
  },
  {
   "cell_type": "code",
   "execution_count": 1,
   "id": "15c18199",
   "metadata": {},
   "outputs": [],
   "source": [
    "# Seleniumを使ったブラウザ操作\n",
    "from selenium import webdriver\n",
    "from selenium.webdriver.chrome.service import Service\n",
    "from selenium.webdriver.chrome.options import Options\n",
    "from webdriver_manager.chrome import ChromeDriverManager\n",
    "\n",
    "def run_selenium(IsAutoInstall, IsHeadless):\n",
    "    \n",
    "    # Chrome起動オプションを設定（headless /通常）\n",
    "    options = Options()\n",
    "    if IsHeadless:\n",
    "        print(\"Headlessモードでブラウザ起動します\")\n",
    "        options.add_argument('--headless')\n",
    "        options.add_argument('--disable-gpu')\n",
    "    else:\n",
    "        print(\"通常モードでブラウザ起動します\")\n",
    "\n",
    "    # Chromeブラウザを起動\n",
    "    if IsAutoInstall:\n",
    "        # 自動インストール\n",
    "        service = Service(ChromeDriverManager().install())\n",
    "        driver = webdriver.Chrome(service=service, options=options)\n",
    "    else:\n",
    "        # 手動ダウンロードしたChromeドライバーのパスを指定\n",
    "        if IsHeadless:\n",
    "            chrome_driver_path = \"./chromedriver/chromedriver_headless\"\n",
    "        else:\n",
    "            chrome_driver_path = \"./chromedriver/chromedriver\"\n",
    "        driver = webdriver.Chrome(executable_path=chrome_driver_path, options=options)\n",
    "\n",
    "    # 指定したURLにアクセス\n",
    "    driver.get(\"https://www.google.com\")\n",
    "\n",
    "    # 必要な処理を実行\n",
    "    # ここに任意の処理を追加\n",
    "\n",
    "    # ブラウザを終了\n",
    "    driver.quit()\n",
    "    if IsHeadless:\n",
    "        print(\"Headlessモードのブラウザを終了しました\")\n",
    "    else:\n",
    "        print(\"通常モードのブラウザを終了しました\")\n",
    "        \n",
    "# # Test\n",
    "# run_selenium(IsAutoInstall=True, IsHeadless=False)"
   ]
  },
  {
   "cell_type": "code",
   "execution_count": 2,
   "id": "172af7c1",
   "metadata": {},
   "outputs": [],
   "source": [
    "def main():\n",
    "\n",
    "    # Seleniumを使ったブラウザ操作\n",
    "    run_selenium(IsAutoInstall=True, IsHeadless=False)"
   ]
  },
  {
   "cell_type": "code",
   "execution_count": 3,
   "id": "310212ea",
   "metadata": {},
   "outputs": [
    {
     "name": "stdout",
     "output_type": "stream",
     "text": [
      "通常モードでブラウザ起動します\n",
      "通常モードのブラウザを終了しました\n"
     ]
    }
   ],
   "source": [
    "if __name__ == \"__main__\":\n",
    "    main()"
   ]
  }
 ],
 "metadata": {
  "kernelspec": {
   "display_name": "Python 3 (ipykernel)",
   "language": "python",
   "name": "python3"
  },
  "language_info": {
   "codemirror_mode": {
    "name": "ipython",
    "version": 3
   },
   "file_extension": ".py",
   "mimetype": "text/x-python",
   "name": "python",
   "nbconvert_exporter": "python",
   "pygments_lexer": "ipython3",
   "version": "3.10.0"
  }
 },
 "nbformat": 4,
 "nbformat_minor": 5
}
