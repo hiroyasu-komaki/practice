{
 "cells": [
  {
   "cell_type": "markdown",
   "id": "ab1d67d0",
   "metadata": {},
   "source": [
    "# Pythonサンプルプログラム"
   ]
  },
  {
   "cell_type": "code",
   "execution_count": 1,
   "id": "d9e2abcd",
   "metadata": {},
   "outputs": [],
   "source": [
    "# %pip install scikit-learn nltk\n",
    "# import nltk\n",
    "# nltk.download('stopwords')"
   ]
  },
  {
   "cell_type": "code",
   "execution_count": 2,
   "id": "b940e66c",
   "metadata": {},
   "outputs": [],
   "source": [
    "def filter_information(documents, search_words):\n",
    "    from sklearn.feature_extraction.text import TfidfVectorizer\n",
    "    from sklearn.metrics.pairwise import cosine_similarity\n",
    "    import numpy as np\n",
    "    import pandas as pd\n",
    "    from nltk.corpus import stopwords\n",
    "\n",
    "    # TF-IDFベクトライザー\n",
    "    stop_words = stopwords.words('english')\n",
    "    vectorizer = TfidfVectorizer(stop_words=stop_words)\n",
    "\n",
    "    # TF-IDFへ変換\n",
    "    tfidf_matrix = vectorizer.fit_transform(documents)\n",
    "    search_words_vector = vectorizer.transform([search_words])\n",
    "\n",
    "    # コサイン類似度でソート\n",
    "    cosine_similarities = cosine_similarity(search_words_vector, tfidf_matrix).flatten()\n",
    "    sorted_indices = np.argsort(-cosine_similarities)\n",
    "\n",
    "    # 結果を(スコア, ドキュメント)の形式で返す\n",
    "    results = [(cosine_similarities[i], documents[i]) for i in sorted_indices]\n",
    "\n",
    "    return results"
   ]
  },
  {
   "cell_type": "code",
   "execution_count": 3,
   "id": "cd606288",
   "metadata": {},
   "outputs": [],
   "source": [
    "# 情報検索\n",
    "\n",
    "def run_search_documents():\n",
    "    import numpy as np\n",
    "    import pandas as pd\n",
    "\n",
    "    print(\"# 情報検索\")\n",
    "\n",
    "    # サンプルドキュメント\n",
    "    documents = [\n",
    "        \"The quick brown fox jumps over the lazy dog.\",\n",
    "        \"Never jump over the lazy dog quickly.\",\n",
    "        \"A quick brown dog outpaces a quick fox.\"\n",
    "    ]\n",
    "\n",
    "    # 検索ワード\n",
    "    query = \"quick dog\"\n",
    "\n",
    "    # 検索の実行\n",
    "    results = filter_information(documents, query)\n",
    "\n",
    "    # 結果の表示\n",
    "    for score, doc in results:\n",
    "        print(f\"Score: {score:.4f}, Document: {doc}\")\n",
    "\n",
    "# # Test\n",
    "# run_search_documents()\n"
   ]
  },
  {
   "cell_type": "code",
   "execution_count": 4,
   "id": "f0e3ad04",
   "metadata": {},
   "outputs": [],
   "source": [
    "# 情報フィルタリング\n",
    "\n",
    "def run_information_filtering():\n",
    "    import numpy as np\n",
    "    import pandas as pd\n",
    "\n",
    "    print(\"# 情報フィルタリング\")\n",
    "\n",
    "    # サンプルニュース記事\n",
    "    documents = [\n",
    "        \"The stock market is experiencing unprecedented growth.\",\n",
    "        \"Local football team wins the championship.\",\n",
    "        \"New advancements in AI technology are transforming the industry.\",\n",
    "        \"The government announces new economic policies.\",\n",
    "        \"Celebrity couple announces their engagement.\",\n",
    "        \"New study reveals health benefits of a balanced diet.\"\n",
    "    ]\n",
    "\n",
    "    # 検索ワード\n",
    "    search_word = \"AI technology and economic policies\"\n",
    "\n",
    "    # 情報フィルタリングの実行\n",
    "    results = filter_information(documents, search_word)\n",
    "\n",
    "    # 結果の表示\n",
    "    for score, doc in results:\n",
    "        print(f\"Score: {score:.4f}, Document: {doc}\")\n",
    "\n",
    "# # Test\n",
    "# run_information_filtering()\n"
   ]
  },
  {
   "cell_type": "code",
   "execution_count": 5,
   "id": "172af7c1",
   "metadata": {},
   "outputs": [],
   "source": [
    "def main():\n",
    "\n",
    "    # 情報検索\n",
    "    run_search_documents()\n",
    "\n",
    "    # 情報フィルタリング\n",
    "    run_information_filtering()"
   ]
  },
  {
   "cell_type": "code",
   "execution_count": 6,
   "id": "310212ea",
   "metadata": {},
   "outputs": [
    {
     "name": "stdout",
     "output_type": "stream",
     "text": [
      "# 情報検索\n",
      "Score: 0.7123, Document: A quick brown dog outpaces a quick fox.\n",
      "Score: 0.5032, Document: The quick brown fox jumps over the lazy dog.\n",
      "Score: 0.1828, Document: Never jump over the lazy dog quickly.\n",
      "# 情報フィルタリング\n",
      "Score: 0.4908, Document: The government announces new economic policies.\n",
      "Score: 0.4272, Document: New advancements in AI technology are transforming the industry.\n",
      "Score: 0.0000, Document: The stock market is experiencing unprecedented growth.\n",
      "Score: 0.0000, Document: Local football team wins the championship.\n",
      "Score: 0.0000, Document: Celebrity couple announces their engagement.\n",
      "Score: 0.0000, Document: New study reveals health benefits of a balanced diet.\n"
     ]
    }
   ],
   "source": [
    "if __name__ == \"__main__\":\n",
    "    main()"
   ]
  },
  {
   "cell_type": "code",
   "execution_count": null,
   "id": "14cd8ecc",
   "metadata": {},
   "outputs": [],
   "source": []
  }
 ],
 "metadata": {
  "kernelspec": {
   "display_name": "Python 3 (ipykernel)",
   "language": "python",
   "name": "python3"
  },
  "language_info": {
   "codemirror_mode": {
    "name": "ipython",
    "version": 3
   },
   "file_extension": ".py",
   "mimetype": "text/x-python",
   "name": "python",
   "nbconvert_exporter": "python",
   "pygments_lexer": "ipython3",
   "version": "3.10.0"
  }
 },
 "nbformat": 4,
 "nbformat_minor": 5
}
